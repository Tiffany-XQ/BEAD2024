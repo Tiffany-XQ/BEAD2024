{
  "nbformat": 4,
  "nbformat_minor": 0,
  "metadata": {
    "colab": {
      "provenance": [],
      "authorship_tag": "ABX9TyMmeN+f9eUASsQyjieOkIBd",
      "include_colab_link": true
    },
    "kernelspec": {
      "name": "python3",
      "display_name": "Python 3"
    },
    "language_info": {
      "name": "python"
    }
  },
  "cells": [
    {
      "cell_type": "markdown",
      "metadata": {
        "id": "view-in-github",
        "colab_type": "text"
      },
      "source": [
        "<a href=\"https://colab.research.google.com/github/suriarasai/BEAD2024/blob/main/colab/Introduction_to_Python_and_PySpark_on_CoLab.ipynb\" target=\"_parent\"><img src=\"https://colab.research.google.com/assets/colab-badge.svg\" alt=\"Open In Colab\"/></a>"
      ]
    },
    {
      "cell_type": "markdown",
      "source": [
        "# Introduction\n",
        "This workshop walks through google CoLab sandbox. Google Colab is an online platform provided by Google that allows users to write and execute Python code through the browser. It's especially popular for machine learning and data analysis projects because it offers free access to certain computing resources, including GPUs and TPUs, which can significantly speed up processing times.\n",
        "\n",
        "Colab notebooks are interactive documents, like Jupyter Notebooks (a flexible web-based interactive development environment for notebooks, code, and data.). They allow you to combine executable code, rich text, images, and other multimedia in a single document. Colab comes with pre-installed Python libraries for data analysis and visualization, such as NumPy, Pandas, Matplotlib, and Seaborn.\n",
        "\n",
        "Colab is integrated with Google Drive, making it easy to share work, access various file types, and collaborate with others. It's widely used for educational purposes, as well as for research and development in various scientific disciplines.\n"
      ],
      "metadata": {
        "id": "QKNIa1bEAqL6"
      }
    },
    {
      "cell_type": "markdown",
      "source": [
        "# Getting Familiar with CoLab\n",
        "Once you log into CoLab using your Gmail account and google drive, you would be able to play around with welcome notebook. The lecturer would introduce a few basics in the classroom.\n"
      ],
      "metadata": {
        "id": "gdmnz96nCgGi"
      }
    },
    {
      "cell_type": "code",
      "execution_count": null,
      "metadata": {
        "id": "afBIhXC6Ae9N"
      },
      "outputs": [],
      "source": []
    }
  ]
}