{
  "nbformat": 4,
  "nbformat_minor": 0,
  "metadata": {
    "colab": {
      "provenance": [],
      "include_colab_link": true
    },
    "kernelspec": {
      "name": "python3",
      "display_name": "Python 3"
    },
    "language_info": {
      "name": "python"
    }
  },
  "cells": [
    {
      "cell_type": "markdown",
      "metadata": {
        "id": "view-in-github",
        "colab_type": "text"
      },
      "source": [
        "<a href=\"https://colab.research.google.com/github/suriarasai/BEAD2024/blob/main/colab/FlightDelays_using_RDD.ipynb\" target=\"_parent\"><img src=\"https://colab.research.google.com/assets/colab-badge.svg\" alt=\"Open In Colab\"/></a>"
      ]
    },
    {
      "cell_type": "markdown",
      "source": [
        "# Resilient Distributed Data Set\n",
        "Resilient Distributed Datasets (RDDs) are collections of immutable JVM objects that are distributed across an Apache Spark cluster. An RDD is the fundamental dataset type of Apache Spark; any action on a Spark DataFrame eventually gets translated into a highly optimized execution of transformations and actions on RDDs."
      ],
      "metadata": {
        "id": "s3yyvElsbOku"
      }
    },
    {
      "cell_type": "markdown",
      "source": [
        "## Setup PySpark\n",
        "Spark requires a handful of environments to be present on the machine before we can use it. The below codes help to install pyspark and related tools."
      ],
      "metadata": {
        "id": "amqCrsezcvKI"
      }
    },
    {
      "cell_type": "code",
      "execution_count": 2,
      "metadata": {
        "colab": {
          "base_uri": "https://localhost:8080/"
        },
        "id": "aOuiptH23wSa",
        "outputId": "1d6235e2-88b2-4cc2-e581-961a4650bf26"
      },
      "outputs": [
        {
          "output_type": "stream",
          "name": "stdout",
          "text": [
            "\u001b[2K     \u001b[90m━━━━━━━━━━━━━━━━━━━━━━━━━━━━━━━━━━━━━━━━\u001b[0m \u001b[32m316.9/316.9 MB\u001b[0m \u001b[31m2.2 MB/s\u001b[0m eta \u001b[36m0:00:00\u001b[0m\n",
            "\u001b[?25h  Preparing metadata (setup.py) ... \u001b[?25l\u001b[?25hdone\n",
            "\u001b[2K     \u001b[90m━━━━━━━━━━━━━━━━━━━━━━━━━━━━━━━━━━━━━━━━\u001b[0m \u001b[32m200.5/200.5 kB\u001b[0m \u001b[31m15.5 MB/s\u001b[0m eta \u001b[36m0:00:00\u001b[0m\n",
            "\u001b[?25h  Building wheel for pyspark (setup.py) ... \u001b[?25l\u001b[?25hdone\n"
          ]
        }
      ],
      "source": [
        "# install pyspark using pip\n",
        "!pip install --ignore-install -q pyspark\n",
        "# install findspark using pip\n",
        "!pip install --ignore-install -q findspark"
      ]
    },
    {
      "cell_type": "markdown",
      "source": [
        "## Spark Session\n",
        "The below codes are used to create a Spark session object, and also set up related UI port."
      ],
      "metadata": {
        "id": "r0IKtztbbL-v"
      }
    },
    {
      "cell_type": "code",
      "source": [
        "#from pyspark import SparkConf,SparkContext\n",
        "from pyspark.sql import SparkSession\n",
        "import collections\n",
        "spark = SparkSession.builder.master(\"local\").appName(\"Flight Delay\").config('spark.ui.port', '4050').getOrCreate()\n"
      ],
      "metadata": {
        "id": "l1I1VynS4JBT"
      },
      "execution_count": 3,
      "outputs": []
    },
    {
      "cell_type": "markdown",
      "source": [
        "## Creating RDD\n",
        "There are two ways to create an RDD in PySpark: we can either use the parallelize() method—a collection (list or an array of some elements) or reference a file (or files) located either locally or through an external source, as noted in subsequent recipes.\n",
        "\n",
        "The following code snippet creates RDD (myRDD) using the sc.parallelize() method:"
      ],
      "metadata": {
        "id": "ZOwEqQRndtSQ"
      }
    },
    {
      "cell_type": "code",
      "source": [
        "myRDD = spark.sparkContext.parallelize([('Suria', 21), ('Venkat', 18), ('Liu Fan',16), ('Bob', 18), ('Scott', 17)])\n",
        "myRDD.take(5)"
      ],
      "metadata": {
        "colab": {
          "base_uri": "https://localhost:8080/"
        },
        "id": "QJDeekWGeDLp",
        "outputId": "168f6eab-0f35-4ca2-c13e-a247d87c5158"
      },
      "execution_count": null,
      "outputs": [
        {
          "output_type": "execute_result",
          "data": {
            "text/plain": [
              "[('Suria', 21), ('Venkat', 18), ('Liu Fan', 16), ('Bob', 18), ('Scott', 17)]"
            ]
          },
          "metadata": {},
          "execution_count": 4
        }
      ]
    },
    {
      "cell_type": "markdown",
      "source": [
        "\n",
        "Reading data from a file involves file besing stored locally or in hadoop or AWS S3 or Azure WASB or Google Cloud Storage or Data Bricks storage. Examples for the same are provided below:\n",
        "1. sc.textFile('/local folder/filename.csv')\n",
        "2. sc.textFile('hdfs://folder/filename.csv')\n",
        "3. sc.textFile('s3://bucket/folder/filename.csv')\n",
        "4. sc.textFile('wasb://bucket/folder/filename.csv')\n",
        "5. sc.textFile('gs://bucket/folder/filename.csv')\n",
        "6. sc.textFile('dbfs://folder/filename.csv')\n",
        "\n",
        "For this workshop, please use the data from GIT two files (airport-codes-na.txt and departuredelays.csv).\n",
        "\n",
        "Mount them into your google drive using the below file upload button.\n",
        "\n",
        "Note that the files can be copied from this [URL](https://github.com/suriarasai/BEAD2024/tree/main/data).\n",
        "\n"
      ],
      "metadata": {
        "id": "oTO4QCHufTaB"
      }
    },
    {
      "cell_type": "code",
      "source": [
        "from google.colab import files\n",
        "uploaded = files.upload()"
      ],
      "metadata": {
        "colab": {
          "base_uri": "https://localhost:8080/",
          "height": 73
        },
        "id": "Xm9v7izlhaQM",
        "outputId": "5b1c81ea-d15a-4af7-e442-e57752a20479"
      },
      "execution_count": null,
      "outputs": [
        {
          "output_type": "display_data",
          "data": {
            "text/plain": [
              "<IPython.core.display.HTML object>"
            ],
            "text/html": [
              "\n",
              "     <input type=\"file\" id=\"files-95e4bf5b-ef4c-463b-a252-d219dfb7234e\" name=\"files[]\" multiple disabled\n",
              "        style=\"border:none\" />\n",
              "     <output id=\"result-95e4bf5b-ef4c-463b-a252-d219dfb7234e\">\n",
              "      Upload widget is only available when the cell has been executed in the\n",
              "      current browser session. Please rerun this cell to enable.\n",
              "      </output>\n",
              "      <script>// Copyright 2017 Google LLC\n",
              "//\n",
              "// Licensed under the Apache License, Version 2.0 (the \"License\");\n",
              "// you may not use this file except in compliance with the License.\n",
              "// You may obtain a copy of the License at\n",
              "//\n",
              "//      http://www.apache.org/licenses/LICENSE-2.0\n",
              "//\n",
              "// Unless required by applicable law or agreed to in writing, software\n",
              "// distributed under the License is distributed on an \"AS IS\" BASIS,\n",
              "// WITHOUT WARRANTIES OR CONDITIONS OF ANY KIND, either express or implied.\n",
              "// See the License for the specific language governing permissions and\n",
              "// limitations under the License.\n",
              "\n",
              "/**\n",
              " * @fileoverview Helpers for google.colab Python module.\n",
              " */\n",
              "(function(scope) {\n",
              "function span(text, styleAttributes = {}) {\n",
              "  const element = document.createElement('span');\n",
              "  element.textContent = text;\n",
              "  for (const key of Object.keys(styleAttributes)) {\n",
              "    element.style[key] = styleAttributes[key];\n",
              "  }\n",
              "  return element;\n",
              "}\n",
              "\n",
              "// Max number of bytes which will be uploaded at a time.\n",
              "const MAX_PAYLOAD_SIZE = 100 * 1024;\n",
              "\n",
              "function _uploadFiles(inputId, outputId) {\n",
              "  const steps = uploadFilesStep(inputId, outputId);\n",
              "  const outputElement = document.getElementById(outputId);\n",
              "  // Cache steps on the outputElement to make it available for the next call\n",
              "  // to uploadFilesContinue from Python.\n",
              "  outputElement.steps = steps;\n",
              "\n",
              "  return _uploadFilesContinue(outputId);\n",
              "}\n",
              "\n",
              "// This is roughly an async generator (not supported in the browser yet),\n",
              "// where there are multiple asynchronous steps and the Python side is going\n",
              "// to poll for completion of each step.\n",
              "// This uses a Promise to block the python side on completion of each step,\n",
              "// then passes the result of the previous step as the input to the next step.\n",
              "function _uploadFilesContinue(outputId) {\n",
              "  const outputElement = document.getElementById(outputId);\n",
              "  const steps = outputElement.steps;\n",
              "\n",
              "  const next = steps.next(outputElement.lastPromiseValue);\n",
              "  return Promise.resolve(next.value.promise).then((value) => {\n",
              "    // Cache the last promise value to make it available to the next\n",
              "    // step of the generator.\n",
              "    outputElement.lastPromiseValue = value;\n",
              "    return next.value.response;\n",
              "  });\n",
              "}\n",
              "\n",
              "/**\n",
              " * Generator function which is called between each async step of the upload\n",
              " * process.\n",
              " * @param {string} inputId Element ID of the input file picker element.\n",
              " * @param {string} outputId Element ID of the output display.\n",
              " * @return {!Iterable<!Object>} Iterable of next steps.\n",
              " */\n",
              "function* uploadFilesStep(inputId, outputId) {\n",
              "  const inputElement = document.getElementById(inputId);\n",
              "  inputElement.disabled = false;\n",
              "\n",
              "  const outputElement = document.getElementById(outputId);\n",
              "  outputElement.innerHTML = '';\n",
              "\n",
              "  const pickedPromise = new Promise((resolve) => {\n",
              "    inputElement.addEventListener('change', (e) => {\n",
              "      resolve(e.target.files);\n",
              "    });\n",
              "  });\n",
              "\n",
              "  const cancel = document.createElement('button');\n",
              "  inputElement.parentElement.appendChild(cancel);\n",
              "  cancel.textContent = 'Cancel upload';\n",
              "  const cancelPromise = new Promise((resolve) => {\n",
              "    cancel.onclick = () => {\n",
              "      resolve(null);\n",
              "    };\n",
              "  });\n",
              "\n",
              "  // Wait for the user to pick the files.\n",
              "  const files = yield {\n",
              "    promise: Promise.race([pickedPromise, cancelPromise]),\n",
              "    response: {\n",
              "      action: 'starting',\n",
              "    }\n",
              "  };\n",
              "\n",
              "  cancel.remove();\n",
              "\n",
              "  // Disable the input element since further picks are not allowed.\n",
              "  inputElement.disabled = true;\n",
              "\n",
              "  if (!files) {\n",
              "    return {\n",
              "      response: {\n",
              "        action: 'complete',\n",
              "      }\n",
              "    };\n",
              "  }\n",
              "\n",
              "  for (const file of files) {\n",
              "    const li = document.createElement('li');\n",
              "    li.append(span(file.name, {fontWeight: 'bold'}));\n",
              "    li.append(span(\n",
              "        `(${file.type || 'n/a'}) - ${file.size} bytes, ` +\n",
              "        `last modified: ${\n",
              "            file.lastModifiedDate ? file.lastModifiedDate.toLocaleDateString() :\n",
              "                                    'n/a'} - `));\n",
              "    const percent = span('0% done');\n",
              "    li.appendChild(percent);\n",
              "\n",
              "    outputElement.appendChild(li);\n",
              "\n",
              "    const fileDataPromise = new Promise((resolve) => {\n",
              "      const reader = new FileReader();\n",
              "      reader.onload = (e) => {\n",
              "        resolve(e.target.result);\n",
              "      };\n",
              "      reader.readAsArrayBuffer(file);\n",
              "    });\n",
              "    // Wait for the data to be ready.\n",
              "    let fileData = yield {\n",
              "      promise: fileDataPromise,\n",
              "      response: {\n",
              "        action: 'continue',\n",
              "      }\n",
              "    };\n",
              "\n",
              "    // Use a chunked sending to avoid message size limits. See b/62115660.\n",
              "    let position = 0;\n",
              "    do {\n",
              "      const length = Math.min(fileData.byteLength - position, MAX_PAYLOAD_SIZE);\n",
              "      const chunk = new Uint8Array(fileData, position, length);\n",
              "      position += length;\n",
              "\n",
              "      const base64 = btoa(String.fromCharCode.apply(null, chunk));\n",
              "      yield {\n",
              "        response: {\n",
              "          action: 'append',\n",
              "          file: file.name,\n",
              "          data: base64,\n",
              "        },\n",
              "      };\n",
              "\n",
              "      let percentDone = fileData.byteLength === 0 ?\n",
              "          100 :\n",
              "          Math.round((position / fileData.byteLength) * 100);\n",
              "      percent.textContent = `${percentDone}% done`;\n",
              "\n",
              "    } while (position < fileData.byteLength);\n",
              "  }\n",
              "\n",
              "  // All done.\n",
              "  yield {\n",
              "    response: {\n",
              "      action: 'complete',\n",
              "    }\n",
              "  };\n",
              "}\n",
              "\n",
              "scope.google = scope.google || {};\n",
              "scope.google.colab = scope.google.colab || {};\n",
              "scope.google.colab._files = {\n",
              "  _uploadFiles,\n",
              "  _uploadFilesContinue,\n",
              "};\n",
              "})(self);\n",
              "</script> "
            ]
          },
          "metadata": {}
        },
        {
          "output_type": "stream",
          "name": "stdout",
          "text": [
            "Saving airport-codes-na.txt to airport-codes-na.txt\n"
          ]
        }
      ]
    },
    {
      "cell_type": "code",
      "source": [
        "from google.colab import drive\n",
        "drive.mount('/content/drive')"
      ],
      "metadata": {
        "colab": {
          "base_uri": "https://localhost:8080/"
        },
        "id": "ZhDLLbgX9oLZ",
        "outputId": "5d983f92-1bb1-419d-90aa-a16c6c2227ab"
      },
      "execution_count": 5,
      "outputs": [
        {
          "output_type": "stream",
          "name": "stdout",
          "text": [
            "Drive already mounted at /content/drive; to attempt to forcibly remount, call drive.mount(\"/content/drive\", force_remount=True).\n"
          ]
        }
      ]
    },
    {
      "cell_type": "markdown",
      "source": [
        "Alternatively, you can also upload the folders in your mounted google drive as shown below."
      ],
      "metadata": {
        "id": "Ecih-YxZhbxi"
      }
    },
    {
      "cell_type": "code",
      "source": [
        "airportRDD = spark.sparkContext.textFile(\"/content/drive/MyDrive/data/airport-data/airport-codes-na.txt\").map(lambda element: element.split(\"\\t\"))\n",
        "\n"
      ],
      "metadata": {
        "id": "CGdy5n-E4UyU"
      },
      "execution_count": 8,
      "outputs": []
    },
    {
      "cell_type": "markdown",
      "source": [],
      "metadata": {
        "id": "sQ62aNvKsK_j"
      }
    },
    {
      "cell_type": "code",
      "source": [
        "airportRDD.take(5)\n"
      ],
      "metadata": {
        "id": "lDEJmxlE5VM9",
        "colab": {
          "base_uri": "https://localhost:8080/"
        },
        "outputId": "92745a2c-e06a-4a03-f9f6-2c79e3aff1bb"
      },
      "execution_count": 9,
      "outputs": [
        {
          "output_type": "execute_result",
          "data": {
            "text/plain": [
              "[['City', 'State', 'Country', 'IATA'],\n",
              " ['Abbotsford', 'BC', 'Canada', 'YXX'],\n",
              " ['Aberdeen', 'SD', 'USA', 'ABR'],\n",
              " ['Abilene', 'TX', 'USA', 'ABI'],\n",
              " ['Akron', 'OH', 'USA', 'CAK']]"
            ]
          },
          "metadata": {},
          "execution_count": 9
        }
      ]
    },
    {
      "cell_type": "code",
      "source": [
        "airportRDD.count()\n"
      ],
      "metadata": {
        "id": "Y2uHmPIR5YsG",
        "colab": {
          "base_uri": "https://localhost:8080/"
        },
        "outputId": "8ec3de60-7f1e-43cd-bff4-c49554ccb923"
      },
      "execution_count": null,
      "outputs": [
        {
          "output_type": "execute_result",
          "data": {
            "text/plain": [
              "527"
            ]
          },
          "metadata": {},
          "execution_count": 10
        }
      ]
    },
    {
      "cell_type": "code",
      "source": [
        "airportRDD.getNumPartitions()"
      ],
      "metadata": {
        "colab": {
          "base_uri": "https://localhost:8080/"
        },
        "id": "MIVT7wh-Mw5f",
        "outputId": "3d02dec2-5cfc-4f3f-9a44-a9450230a56d"
      },
      "execution_count": 10,
      "outputs": [
        {
          "output_type": "execute_result",
          "data": {
            "text/plain": [
              "1"
            ]
          },
          "metadata": {},
          "execution_count": 10
        }
      ]
    },
    {
      "cell_type": "code",
      "source": [
        "# Setup the RDD: flights\n",
        "flights = (\n",
        "    spark.sparkContext\n",
        "    .textFile('/content/drive/MyDrive/data/airport-data/departuredelays.csv')\n",
        "    .map(lambda element: element.split(\",\"))\n",
        ")"
      ],
      "metadata": {
        "id": "etMiFbOxubsx"
      },
      "execution_count": 11,
      "outputs": []
    },
    {
      "cell_type": "code",
      "source": [
        "flights.take(5)"
      ],
      "metadata": {
        "colab": {
          "base_uri": "https://localhost:8080/"
        },
        "id": "-acFQ2k_uvOh",
        "outputId": "78d5d9c0-363c-4f78-e45a-e490e7cd21ce"
      },
      "execution_count": 12,
      "outputs": [
        {
          "output_type": "execute_result",
          "data": {
            "text/plain": [
              "[['date', 'delay', 'distance', 'origin', 'destination'],\n",
              " ['01011245', '6', '602', 'ABE', 'ATL'],\n",
              " ['01020600', '-8', '369', 'ABE', 'DTW'],\n",
              " ['01021245', '-2', '602', 'ABE', 'ATL'],\n",
              " ['01020605', '-4', '602', 'ABE', 'ATL']]"
            ]
          },
          "metadata": {},
          "execution_count": 12
        }
      ]
    },
    {
      "cell_type": "code",
      "source": [
        "# User filter() to filter where second column == \"WA\"\n",
        "(\n",
        "    airportRDD\n",
        "    .map(lambda c: (c[0], c[1]))\n",
        "    .filter(lambda c: c[1] == \"WA\")\n",
        "    .take(5)\n",
        ")"
      ],
      "metadata": {
        "colab": {
          "base_uri": "https://localhost:8080/"
        },
        "id": "GTvNACubvTim",
        "outputId": "efd944d0-5e67-4dbb-b87b-8b32886f7da7"
      },
      "execution_count": 14,
      "outputs": [
        {
          "output_type": "execute_result",
          "data": {
            "text/plain": [
              "[('Bellingham', 'WA'),\n",
              " ('Moses Lake', 'WA'),\n",
              " ('Pasco', 'WA'),\n",
              " ('Pullman', 'WA'),\n",
              " ('Seattle', 'WA')]"
            ]
          },
          "metadata": {},
          "execution_count": 14
        }
      ]
    },
    {
      "cell_type": "code",
      "source": [
        "# Filter only second column == \"WA\",\n",
        "# select first two columns within the RDD,\n",
        "# and flatten out all values\n",
        "(\n",
        "    airportRDD\n",
        "    .filter(lambda c: c[1] == \"WA\")\n",
        "    .map(lambda c: (c[0], c[1]))\n",
        "    .flatMap(lambda x: x)\n",
        "    .take(10)\n",
        ")"
      ],
      "metadata": {
        "colab": {
          "base_uri": "https://localhost:8080/"
        },
        "id": "qy-LcHIRvZkE",
        "outputId": "8f6c18c8-f25f-4f5a-adf6-29093410f01b"
      },
      "execution_count": 15,
      "outputs": [
        {
          "output_type": "execute_result",
          "data": {
            "text/plain": [
              "['Bellingham',\n",
              " 'WA',\n",
              " 'Moses Lake',\n",
              " 'WA',\n",
              " 'Pasco',\n",
              " 'WA',\n",
              " 'Pullman',\n",
              " 'WA',\n",
              " 'Seattle',\n",
              " 'WA']"
            ]
          },
          "metadata": {},
          "execution_count": 15
        }
      ]
    },
    {
      "cell_type": "code",
      "source": [
        "# Provide the distinct elements for the\n",
        "# third column of airports representing\n",
        "# countries\n",
        "(\n",
        "    airportRDD\n",
        "    .map(lambda c: c[2])\n",
        "    .distinct()\n",
        "    .take(5)\n",
        ")"
      ],
      "metadata": {
        "id": "WsSG_dbHvfSP"
      },
      "execution_count": null,
      "outputs": []
    },
    {
      "cell_type": "code",
      "source": [
        "# Provide a sample based on 0.001% the\n",
        "# flights RDD data specific to the fourth\n",
        "# column (origin city of flight)\n",
        "# without replacement (False) using random\n",
        "# seed of 123\n",
        "(\n",
        "    flights\n",
        "    .map(lambda c: c[3])\n",
        "    .sample(False, 0.001, 123)\n",
        "    .take(5)\n",
        ")"
      ],
      "metadata": {
        "colab": {
          "base_uri": "https://localhost:8080/"
        },
        "id": "zdW5EuY7vkcR",
        "outputId": "8ea34489-c993-4c95-daea-f67aaaa02084"
      },
      "execution_count": null,
      "outputs": [
        {
          "output_type": "execute_result",
          "data": {
            "text/plain": [
              "['ABQ', 'AEX', 'AGS', 'ANC', 'ATL']"
            ]
          },
          "metadata": {},
          "execution_count": 17
        }
      ]
    },
    {
      "cell_type": "code",
      "source": [
        "# Flights data\n",
        "#  e.g. (u'JFK', u'01010900')\n",
        "flt = flights.map(lambda c: (c[3], c[0]))\n",
        "\n",
        "# Airports data\n",
        "# e.g. (u'JFK', u'NY')\n",
        "air = airportRDD.map(lambda c: (c[3], c[1]))\n",
        "\n",
        "# Execute inner join between RDDs\n",
        "flt.join(air).take(5)"
      ],
      "metadata": {
        "colab": {
          "base_uri": "https://localhost:8080/"
        },
        "id": "zxub3LCxvqJh",
        "outputId": "2dc8b6e1-1a77-4b12-eda7-318b3ba020dc"
      },
      "execution_count": 18,
      "outputs": [
        {
          "output_type": "execute_result",
          "data": {
            "text/plain": [
              "[('ABE', ('01011245', 'PA')),\n",
              " ('ABE', ('01020600', 'PA')),\n",
              " ('ABE', ('01021245', 'PA')),\n",
              " ('ABE', ('01020605', 'PA')),\n",
              " ('ABE', ('01031245', 'PA'))]"
            ]
          },
          "metadata": {},
          "execution_count": 18
        }
      ]
    },
    {
      "cell_type": "code",
      "source": [
        "# Let's re-partition this to 8 so we can have 8\n",
        "# partitions\n",
        "flights2 = flights.repartition(8)\n",
        "\n",
        "# Checking the number of partitions for the flights2 RDD\n",
        "flights2.getNumPartitions()\n"
      ],
      "metadata": {
        "colab": {
          "base_uri": "https://localhost:8080/"
        },
        "id": "OKyNT7Ccv0af",
        "outputId": "798a07ec-092a-4d5d-9850-1123b0393ff3"
      },
      "execution_count": 19,
      "outputs": [
        {
          "output_type": "execute_result",
          "data": {
            "text/plain": [
              "8"
            ]
          },
          "metadata": {},
          "execution_count": 19
        }
      ]
    },
    {
      "cell_type": "code",
      "source": [
        "# View each row within RDD + the index\n",
        "# i.e. output is in form ([row], idx)\n",
        "ac = airportRDD.map(lambda c: (c[0], c[3]))\n",
        "ac.zipWithIndex().take(5)"
      ],
      "metadata": {
        "colab": {
          "base_uri": "https://localhost:8080/"
        },
        "id": "LA0xYksMv34P",
        "outputId": "1353267f-0b98-4979-83b9-2233f1b918d9"
      },
      "execution_count": 20,
      "outputs": [
        {
          "output_type": "execute_result",
          "data": {
            "text/plain": [
              "[(('City', 'IATA'), 0),\n",
              " (('Abbotsford', 'YXX'), 1),\n",
              " (('Aberdeen', 'ABR'), 2),\n",
              " (('Abilene', 'ABI'), 3),\n",
              " (('Akron', 'CAK'), 4)]"
            ]
          },
          "metadata": {},
          "execution_count": 20
        }
      ]
    },
    {
      "cell_type": "code",
      "source": [
        "# Create `a` RDD of Washington airports\n",
        "a = (\n",
        "    airportRDD\n",
        "    .zipWithIndex()\n",
        "    .filter(lambda row, idx : idx > 0)\n",
        "    .map(lambda row, idx: row)\n",
        "    .filter(lambda c: c[1] == \"WA\")\n",
        ")\n",
        "\n",
        "# Create `b` RDD of British Columbia airports\n",
        "b = (\n",
        "    airportRDD\n",
        "    .zipWithIndex()\n",
        "    .filter(lambda row, idx: idx > 0)\n",
        "    .map(lambda row, idx: row)\n",
        "    .filter(lambda c: c[1] == \"BC\")\n",
        ")\n",
        "\n",
        "# Union WA and BC airports\n",
        "a.union(b)\n"
      ],
      "metadata": {
        "colab": {
          "base_uri": "https://localhost:8080/"
        },
        "id": "2IIRRsmAwhaW",
        "outputId": "709edd33-327d-476f-d80f-86071f393e9f"
      },
      "execution_count": 21,
      "outputs": [
        {
          "output_type": "execute_result",
          "data": {
            "text/plain": [
              "UnionRDD[42] at union at NativeMethodAccessorImpl.java:0"
            ]
          },
          "metadata": {},
          "execution_count": 21
        }
      ]
    },
    {
      "cell_type": "code",
      "source": [
        "# Flights data\n",
        "#  e.g. (u'JFK', u'01010900')\n",
        "flt = flights.map(lambda c: (c[3], c[0]))\n",
        "\n",
        "# Airports data\n",
        "# e.g. (u'JFK', u'NY')\n",
        "air = airportRDD.map(lambda c: (c[3], c[1]))\n",
        "\n",
        "# Execute inner join between RDDs\n",
        "flt.join(air).take(5)"
      ],
      "metadata": {
        "colab": {
          "base_uri": "https://localhost:8080/"
        },
        "id": "-TGLjCidxmYX",
        "outputId": "f1c5da21-020a-4b9a-f9e7-f789e68c0adc"
      },
      "execution_count": 22,
      "outputs": [
        {
          "output_type": "execute_result",
          "data": {
            "text/plain": [
              "[('ABE', ('01011245', 'PA')),\n",
              " ('ABE', ('01020600', 'PA')),\n",
              " ('ABE', ('01021245', 'PA')),\n",
              " ('ABE', ('01020605', 'PA')),\n",
              " ('ABE', ('01031245', 'PA'))]"
            ]
          },
          "metadata": {},
          "execution_count": 22
        }
      ]
    },
    {
      "cell_type": "code",
      "source": [
        "# Setup the RDD: airports\n",
        "airports = (\n",
        "    spark.sparkContext\n",
        "    .textFile('/content/drive/MyDrive/data/airport-data/airport-codes-na.txt')\n",
        "    .map(lambda element: element.split(\"\\t\"))\n",
        ")\n",
        "\n",
        "airports.take(5)"
      ],
      "metadata": {
        "colab": {
          "base_uri": "https://localhost:8080/"
        },
        "id": "k1p88kf2x2C0",
        "outputId": "ed51bffe-a0fd-4bd2-b9d8-835c9a0b32ee"
      },
      "execution_count": 24,
      "outputs": [
        {
          "output_type": "execute_result",
          "data": {
            "text/plain": [
              "[['City', 'State', 'Country', 'IATA'],\n",
              " ['Abbotsford', 'BC', 'Canada', 'YXX'],\n",
              " ['Aberdeen', 'SD', 'USA', 'ABR'],\n",
              " ['Abilene', 'TX', 'USA', 'ABI'],\n",
              " ['Akron', 'OH', 'USA', 'CAK']]"
            ]
          },
          "metadata": {},
          "execution_count": 24
        }
      ]
    },
    {
      "cell_type": "code",
      "source": [
        "# Setup the RDD: flights\n",
        "flights2 = (\n",
        "    spark.sparkContext\n",
        "     .textFile('/content/drive/MyDrive/data/airport-data/departuredelays.csv', minPartitions=8)\n",
        "    .map(lambda line: line.split(\",\"))\n",
        ")\n",
        "\n",
        "flights2.take(5)\n"
      ],
      "metadata": {
        "colab": {
          "base_uri": "https://localhost:8080/"
        },
        "id": "PLM5wUjjyEZ2",
        "outputId": "d3435a40-eb93-4774-bff0-6addf8eabb37"
      },
      "execution_count": null,
      "outputs": [
        {
          "output_type": "execute_result",
          "data": {
            "text/plain": [
              "[['date', 'delay', 'distance', 'origin', 'destination'],\n",
              " ['01011245', '6', '602', 'ABE', 'ATL'],\n",
              " ['01020600', '-8', '369', 'ABE', 'DTW'],\n",
              " ['01021245', '-2', '602', 'ABE', 'ATL'],\n",
              " ['01020605', '-4', '602', 'ABE', 'ATL']]"
            ]
          },
          "metadata": {},
          "execution_count": 24
        }
      ]
    },
    {
      "cell_type": "code",
      "source": [
        "# Print to console the first 3 elements of\n",
        "# the airports RDD\n",
        "airportRDD.take(3)"
      ],
      "metadata": {
        "colab": {
          "base_uri": "https://localhost:8080/"
        },
        "id": "cYyIrEsQyb7f",
        "outputId": "11620790-80ea-4541-f8b9-1cc6a0f1b7b3"
      },
      "execution_count": null,
      "outputs": [
        {
          "output_type": "execute_result",
          "data": {
            "text/plain": [
              "[['City', 'State', 'Country', 'IATA'],\n",
              " ['Abbotsford', 'BC', 'Canada', 'YXX'],\n",
              " ['Aberdeen', 'SD', 'USA', 'ABR']]"
            ]
          },
          "metadata": {},
          "execution_count": 25
        }
      ]
    },
    {
      "cell_type": "code",
      "source": [
        "# Return all airports elements\n",
        "# filtered by WA state\n",
        "airportRDD.filter(lambda c: c[1] == \"WA\").collect()"
      ],
      "metadata": {
        "colab": {
          "base_uri": "https://localhost:8080/"
        },
        "id": "B0NfNpu-yh8J",
        "outputId": "731eb0cd-e4df-4701-eff2-114acc48ce22"
      },
      "execution_count": null,
      "outputs": [
        {
          "output_type": "execute_result",
          "data": {
            "text/plain": [
              "[['Bellingham', 'WA', 'USA', 'BLI'],\n",
              " ['Moses Lake', 'WA', 'USA', 'MWH'],\n",
              " ['Pasco', 'WA', 'USA', 'PSC'],\n",
              " ['Pullman', 'WA', 'USA', 'PUW'],\n",
              " ['Seattle', 'WA', 'USA', 'SEA'],\n",
              " ['Spokane', 'WA', 'USA', 'GEG'],\n",
              " ['Walla Walla', 'WA', 'USA', 'ALW'],\n",
              " ['Wenatchee', 'WA', 'USA', 'EAT'],\n",
              " ['Yakima', 'WA', 'USA', 'YKM']]"
            ]
          },
          "metadata": {},
          "execution_count": 26
        }
      ]
    },
    {
      "cell_type": "code",
      "source": [
        "# Return all airports elements\n",
        "# filtered by WA state\n",
        "airportRDD.filter(lambda c: c[1] == \"WA\").collect()"
      ],
      "metadata": {
        "colab": {
          "base_uri": "https://localhost:8080/"
        },
        "id": "C_Lw27-byo_E",
        "outputId": "7c7299e7-fc99-4a73-96ca-aaed884b9b34"
      },
      "execution_count": null,
      "outputs": [
        {
          "output_type": "execute_result",
          "data": {
            "text/plain": [
              "[['Bellingham', 'WA', 'USA', 'BLI'],\n",
              " ['Moses Lake', 'WA', 'USA', 'MWH'],\n",
              " ['Pasco', 'WA', 'USA', 'PSC'],\n",
              " ['Pullman', 'WA', 'USA', 'PUW'],\n",
              " ['Seattle', 'WA', 'USA', 'SEA'],\n",
              " ['Spokane', 'WA', 'USA', 'GEG'],\n",
              " ['Walla Walla', 'WA', 'USA', 'ALW'],\n",
              " ['Wenatchee', 'WA', 'USA', 'EAT'],\n",
              " ['Yakima', 'WA', 'USA', 'YKM']]"
            ]
          },
          "metadata": {},
          "execution_count": 27
        }
      ]
    },
    {
      "cell_type": "code",
      "source": [
        "# Calculate the total delays of flights\n",
        "# between SEA (origin) and SFO (dest),\n",
        "# convert delays column to int\n",
        "# and summarize\n",
        "flights\\\n",
        " .filter(lambda c: c[3] == 'SEA' and c[4] == 'SFO')\\\n",
        " .map(lambda c: int(c[1]))\\\n",
        " .reduce(lambda x, y: x + y)"
      ],
      "metadata": {
        "colab": {
          "base_uri": "https://localhost:8080/"
        },
        "id": "BZdZ7WL4yvWK",
        "outputId": "8643f96f-8178-4516-ef01-f8392e2364ee"
      },
      "execution_count": null,
      "outputs": [
        {
          "output_type": "execute_result",
          "data": {
            "text/plain": [
              "22293"
            ]
          },
          "metadata": {},
          "execution_count": 28
        }
      ]
    },
    {
      "cell_type": "markdown",
      "source": [
        "Workshop Ends Here"
      ],
      "metadata": {
        "id": "_nyIE0SR-8xQ"
      }
    }
  ]
}